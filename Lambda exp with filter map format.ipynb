{
 "cells": [
  {
   "cell_type": "markdown",
   "id": "88218e30",
   "metadata": {},
   "source": [
    "# Read method"
   ]
  },
  {
   "cell_type": "code",
   "execution_count": 28,
   "id": "318da3cf",
   "metadata": {},
   "outputs": [
    {
     "name": "stdout",
     "output_type": "stream",
     "text": [
      "India is my country.\n",
      "All indians are my brothers and sisters.\n",
      "I love my country.\n"
     ]
    }
   ],
   "source": [
    "file = open(\"C:/Users/Admin/Desktop/AIS Assignment/India.txt\", \"r\")\n",
    "print(file.read())"
   ]
  },
  {
   "cell_type": "code",
   "execution_count": 29,
   "id": "dd6c8c21",
   "metadata": {},
   "outputs": [
    {
     "name": "stdout",
     "output_type": "stream",
     "text": [
      "India is my country.\n",
      "\n"
     ]
    }
   ],
   "source": [
    "file = open(\"C:/Users/Admin/Desktop/AIS Assignment/India.txt\", \"r\")\n",
    "print(file.readline())"
   ]
  },
  {
   "cell_type": "code",
   "execution_count": 30,
   "id": "7232f39c",
   "metadata": {},
   "outputs": [
    {
     "name": "stdout",
     "output_type": "stream",
     "text": [
      "['India is my country.\\n', 'All indians are my brothers and sisters.\\n', 'I love my country.']\n"
     ]
    }
   ],
   "source": [
    "file = open(\"C:/Users/Admin/Desktop/AIS Assignment/India.txt\", \"r\")\n",
    "print(file.readlines())"
   ]
  },
  {
   "cell_type": "code",
   "execution_count": 31,
   "id": "9d6a4c98",
   "metadata": {},
   "outputs": [],
   "source": [
    "import pandas as pd\n",
    "f1=pd.read_csv(\"C:/Users/Admin/Desktop/AIS Assignment/marks.csv\")"
   ]
  },
  {
   "cell_type": "code",
   "execution_count": 33,
   "id": "3105cfda",
   "metadata": {},
   "outputs": [
    {
     "data": {
      "text/html": [
       "<div>\n",
       "<style scoped>\n",
       "    .dataframe tbody tr th:only-of-type {\n",
       "        vertical-align: middle;\n",
       "    }\n",
       "\n",
       "    .dataframe tbody tr th {\n",
       "        vertical-align: top;\n",
       "    }\n",
       "\n",
       "    .dataframe thead th {\n",
       "        text-align: right;\n",
       "    }\n",
       "</style>\n",
       "<table border=\"1\" class=\"dataframe\">\n",
       "  <thead>\n",
       "    <tr style=\"text-align: right;\">\n",
       "      <th></th>\n",
       "      <th>name</th>\n",
       "      <th>age</th>\n",
       "      <th>percentage</th>\n",
       "      <th>grade</th>\n",
       "    </tr>\n",
       "  </thead>\n",
       "  <tbody>\n",
       "    <tr>\n",
       "      <th>0</th>\n",
       "      <td>chetan</td>\n",
       "      <td>23</td>\n",
       "      <td>88</td>\n",
       "      <td>8</td>\n",
       "    </tr>\n",
       "    <tr>\n",
       "      <th>1</th>\n",
       "      <td>karuna</td>\n",
       "      <td>21</td>\n",
       "      <td>85</td>\n",
       "      <td>8</td>\n",
       "    </tr>\n",
       "    <tr>\n",
       "      <th>2</th>\n",
       "      <td>rajas</td>\n",
       "      <td>24</td>\n",
       "      <td>80</td>\n",
       "      <td>7</td>\n",
       "    </tr>\n",
       "  </tbody>\n",
       "</table>\n",
       "</div>"
      ],
      "text/plain": [
       "     name  age  percentage  grade\n",
       "0  chetan   23          88      8\n",
       "1  karuna   21          85      8\n",
       "2   rajas   24          80      7"
      ]
     },
     "execution_count": 33,
     "metadata": {},
     "output_type": "execute_result"
    }
   ],
   "source": [
    "f1"
   ]
  },
  {
   "cell_type": "markdown",
   "id": "b2d22702",
   "metadata": {},
   "source": [
    "# Lambda Expression"
   ]
  },
  {
   "cell_type": "code",
   "execution_count": 35,
   "id": "ae9441b4",
   "metadata": {},
   "outputs": [
    {
     "name": "stdout",
     "output_type": "stream",
     "text": [
      "27\n"
     ]
    }
   ],
   "source": [
    "cube=lambda x:x*x*x\n",
    "print(cube(3))"
   ]
  },
  {
   "cell_type": "code",
   "execution_count": 36,
   "id": "81d69495",
   "metadata": {},
   "outputs": [
    {
     "name": "stdout",
     "output_type": "stream",
     "text": [
      "19.5\n"
     ]
    }
   ],
   "source": [
    "mean=lambda x,y:x+y/2\n",
    "print(mean(12,15))"
   ]
  },
  {
   "cell_type": "code",
   "execution_count": 39,
   "id": "2cdca88e",
   "metadata": {},
   "outputs": [
    {
     "name": "stdout",
     "output_type": "stream",
     "text": [
      "11\n",
      "-1\n",
      "30\n",
      "0.8333333333333334\n"
     ]
    }
   ],
   "source": [
    "add=lambda x,y:x+y\n",
    "sub=lambda x,y:x-y\n",
    "mul=lambda x,y:x*y\n",
    "div=lambda x,y:x/y\n",
    "print(add(5,6))\n",
    "print(sub(5,6))\n",
    "print(mul(5,6))\n",
    "print(div(5,6))\n"
   ]
  },
  {
   "cell_type": "markdown",
   "id": "c0500f04",
   "metadata": {},
   "source": [
    "# format method"
   ]
  },
  {
   "cell_type": "code",
   "execution_count": 37,
   "id": "e988387b",
   "metadata": {},
   "outputs": [
    {
     "name": "stdout",
     "output_type": "stream",
     "text": [
      "chetan is 23 years old and his weight is 64\n"
     ]
    }
   ],
   "source": [
    "print(\"{} is {} years old and his weight is {}\".format('chetan',23,64))"
   ]
  },
  {
   "cell_type": "code",
   "execution_count": 38,
   "id": "d518f104",
   "metadata": {},
   "outputs": [
    {
     "name": "stdout",
     "output_type": "stream",
     "text": [
      "chetan is 23 years old and his weight is 64.70\n"
     ]
    }
   ],
   "source": [
    "txt=\"{name} is {age} years old and his weight is {wt:.2f}\"\n",
    "print(txt.format(name='chetan', age=23, wt=64.6996))"
   ]
  },
  {
   "cell_type": "markdown",
   "id": "0dce04be",
   "metadata": {},
   "source": [
    "# filter method"
   ]
  },
  {
   "cell_type": "code",
   "execution_count": 41,
   "id": "4e08806a",
   "metadata": {},
   "outputs": [
    {
     "name": "stdout",
     "output_type": "stream",
     "text": [
      "69\n",
      "96\n",
      "75\n"
     ]
    }
   ],
   "source": [
    "num=[10,34,26,34,69,96,50,75]\n",
    "def greater50(item):\n",
    "    return item>50\n",
    "fil=filter(greater50,num)\n",
    "for i in fil:\n",
    "    print(i)"
   ]
  },
  {
   "cell_type": "code",
   "execution_count": 42,
   "id": "941f03e2",
   "metadata": {},
   "outputs": [
    {
     "name": "stdout",
     "output_type": "stream",
     "text": [
      "[1, 3, 5, 7, 9, 11, 13, 15, 17, 19]\n",
      "[0, 2, 4, 6, 8, 10, 12, 14, 16, 18]\n"
     ]
    }
   ],
   "source": [
    "result = filter(lambda x: x % 2 != 0, range(20))\n",
    "print(list(result))\n",
    "result = filter(lambda x: x % 2 == 0, range(20))\n",
    "print(list(result))"
   ]
  },
  {
   "cell_type": "markdown",
   "id": "2e435958",
   "metadata": {},
   "source": [
    "# map function"
   ]
  },
  {
   "cell_type": "code",
   "execution_count": 43,
   "id": "6b468176",
   "metadata": {},
   "outputs": [
    {
     "name": "stdout",
     "output_type": "stream",
     "text": [
      "[15, 30, 45, 60, 75, 90, 105, 120, 135, 150]\n"
     ]
    }
   ],
   "source": [
    "l1=[10,20,30,40,50,60,70,80,90,100]\n",
    "l2=[5,10,15,20,25,30,35,40,45,50,55]\n",
    "print(list(map(lambda x,y:x+y,l1,l2)))"
   ]
  },
  {
   "cell_type": "code",
   "execution_count": 44,
   "id": "9f50374f",
   "metadata": {},
   "outputs": [
    {
     "name": "stdout",
     "output_type": "stream",
     "text": [
      "[2, 1]\n",
      "[4, 4]\n",
      "[6, 9]\n",
      "[8, 16]\n",
      "[10, 25]\n",
      "[12, 36]\n",
      "[14, 49]\n",
      "[16, 64]\n",
      "[18, 81]\n",
      "[20, 100]\n"
     ]
    }
   ],
   "source": [
    "def add(x):\n",
    "    return x+x\n",
    "def square(x):\n",
    "    return x*x\n",
    "nums=[1,2,3,4,5,6,7,8,9,10]\n",
    "for i in nums:\n",
    "    vals=list(map(lambda x: x(i), (add,square)))\n",
    "    print(vals)"
   ]
  },
  {
   "cell_type": "markdown",
   "id": "6ca6bcb5",
   "metadata": {},
   "source": [
    "# User defined Functions"
   ]
  },
  {
   "cell_type": "code",
   "execution_count": 49,
   "id": "dd8cc5a6",
   "metadata": {},
   "outputs": [
    {
     "name": "stdout",
     "output_type": "stream",
     "text": [
      "Enter 2 numbers to perform add sub mult div20 25\n",
      "45\n",
      "-5\n",
      "500\n",
      "0.8\n"
     ]
    }
   ],
   "source": [
    "def add(a,b):\n",
    "    return a+b\n",
    "def sub(a,b):\n",
    "    return a-b\n",
    "def mult(a,b):\n",
    "    return a*b\n",
    "def div(a,b):\n",
    "    return a/b\n",
    "a,b=input(\"Enter 2 numbers to perform add sub mult div\").split()\n",
    "a=int(a)\n",
    "b=int(b)\n",
    "print(add(a,b))\n",
    "print(sub(a,b))\n",
    "print(mult(a,b))\n",
    "print(div(a,b))\n"
   ]
  },
  {
   "cell_type": "code",
   "execution_count": 51,
   "id": "00dc46f6",
   "metadata": {},
   "outputs": [
    {
     "name": "stdout",
     "output_type": "stream",
     "text": [
      "Enter a number: 56\n",
      "56 is not a prime number\n"
     ]
    }
   ],
   "source": [
    "def prime(num):\n",
    "    if num == 1:\n",
    "        print(num, \"is not a prime number\")\n",
    "    elif num == 2:\n",
    "        print(num, \"is a prime number\")\n",
    "    elif num>2:\n",
    "        for i in range(2,num):\n",
    "            if (num%i)==0:\n",
    "                print(num,\"is not a prime number\")\n",
    "                break\n",
    "            else:\n",
    "                print(num,\"is a prime number\")\n",
    "                break\n",
    "    \n",
    "\n",
    "            \n",
    "num = int(input(\"Enter a number: \"))\n",
    "prime(num)"
   ]
  },
  {
   "cell_type": "code",
   "execution_count": null,
   "id": "e5e62f93",
   "metadata": {},
   "outputs": [],
   "source": []
  }
 ],
 "metadata": {
  "kernelspec": {
   "display_name": "Python 3 (ipykernel)",
   "language": "python",
   "name": "python3"
  },
  "language_info": {
   "codemirror_mode": {
    "name": "ipython",
    "version": 3
   },
   "file_extension": ".py",
   "mimetype": "text/x-python",
   "name": "python",
   "nbconvert_exporter": "python",
   "pygments_lexer": "ipython3",
   "version": "3.9.13"
  }
 },
 "nbformat": 4,
 "nbformat_minor": 5
}
