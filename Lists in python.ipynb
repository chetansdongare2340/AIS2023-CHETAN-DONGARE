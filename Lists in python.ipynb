{
 "cells": [
  {
   "cell_type": "markdown",
   "id": "6ad45360",
   "metadata": {},
   "source": [
    "# List"
   ]
  },
  {
   "cell_type": "code",
   "execution_count": 2,
   "id": "6883ff3b",
   "metadata": {},
   "outputs": [],
   "source": [
    "#list is a sequence of mutable objects\n",
    "#List contains items seperated by commas and enclosed witin square brackets []"
   ]
  },
  {
   "cell_type": "markdown",
   "id": "66d2f27c",
   "metadata": {},
   "source": [
    "# Creation of List"
   ]
  },
  {
   "cell_type": "code",
   "execution_count": 3,
   "id": "dba84bb8",
   "metadata": {},
   "outputs": [
    {
     "data": {
      "text/plain": [
       "[1, 2, 3, 4]"
      ]
     },
     "execution_count": 3,
     "metadata": {},
     "output_type": "execute_result"
    }
   ],
   "source": [
    "#1. with square brackets []\n",
    "lst1=[1,2,3,4]\n",
    "lst1"
   ]
  },
  {
   "cell_type": "code",
   "execution_count": 6,
   "id": "bc6a185b",
   "metadata": {},
   "outputs": [
    {
     "data": {
      "text/plain": [
       "['c', 'h', 'e', 't', 'a', 'n', ' ', 'd', 'o', 'n', 'g', 'a', 'r', 'e']"
      ]
     },
     "execution_count": 6,
     "metadata": {},
     "output_type": "execute_result"
    }
   ],
   "source": [
    "#2. using list() function\n",
    "lst2=list(\"chetan dongare\")\n",
    "lst2"
   ]
  },
  {
   "cell_type": "code",
   "execution_count": 7,
   "id": "28c04bf8",
   "metadata": {},
   "outputs": [
    {
     "data": {
      "text/plain": [
       "[1, 2, 3, 4, 5, 6, 7, 8, 9]"
      ]
     },
     "execution_count": 7,
     "metadata": {},
     "output_type": "execute_result"
    }
   ],
   "source": [
    "lst3=list([1,2,3,4,5,6,7,8,9])\n",
    "lst3"
   ]
  },
  {
   "cell_type": "markdown",
   "id": "35d7fdce",
   "metadata": {},
   "source": [
    "# Slicing of List"
   ]
  },
  {
   "cell_type": "code",
   "execution_count": 8,
   "id": "aadecc93",
   "metadata": {},
   "outputs": [
    {
     "data": {
      "text/plain": [
       "1"
      ]
     },
     "execution_count": 8,
     "metadata": {},
     "output_type": "execute_result"
    }
   ],
   "source": [
    "#1. list[start]\n",
    "lst3[0]"
   ]
  },
  {
   "cell_type": "code",
   "execution_count": 9,
   "id": "116fd864",
   "metadata": {},
   "outputs": [
    {
     "data": {
      "text/plain": [
       "9"
      ]
     },
     "execution_count": 9,
     "metadata": {},
     "output_type": "execute_result"
    }
   ],
   "source": [
    "#2. list[end]\n",
    "lst3[8]"
   ]
  },
  {
   "cell_type": "code",
   "execution_count": 10,
   "id": "e10d89a3",
   "metadata": {},
   "outputs": [
    {
     "data": {
      "text/plain": [
       "[4, 5, 6, 7, 8, 9]"
      ]
     },
     "execution_count": 10,
     "metadata": {},
     "output_type": "execute_result"
    }
   ],
   "source": [
    "#3. list[start:] gets elements from given start index to all rest elements\n",
    "lst3[3:]"
   ]
  },
  {
   "cell_type": "code",
   "execution_count": 11,
   "id": "64212133",
   "metadata": {},
   "outputs": [
    {
     "data": {
      "text/plain": [
       "[1, 2, 3, 4, 5, 6]"
      ]
     },
     "execution_count": 11,
     "metadata": {},
     "output_type": "execute_result"
    }
   ],
   "source": [
    "#4. list[:end] gets elements from begining to to end index\n",
    "lst3[:6]"
   ]
  },
  {
   "cell_type": "code",
   "execution_count": 12,
   "id": "bef91b03",
   "metadata": {},
   "outputs": [
    {
     "data": {
      "text/plain": [
       "[1, 2, 3, 4, 5, 6, 7, 8, 9]"
      ]
     },
     "execution_count": 12,
     "metadata": {},
     "output_type": "execute_result"
    }
   ],
   "source": [
    "#5. list[:] for all elements\n",
    "lst3[:]"
   ]
  },
  {
   "cell_type": "markdown",
   "id": "977c6676",
   "metadata": {},
   "source": [
    "# Changing values in List"
   ]
  },
  {
   "cell_type": "code",
   "execution_count": 13,
   "id": "602cfbee",
   "metadata": {},
   "outputs": [
    {
     "data": {
      "text/plain": [
       "[1, 2, 3, 4]"
      ]
     },
     "execution_count": 13,
     "metadata": {},
     "output_type": "execute_result"
    }
   ],
   "source": [
    "lst1"
   ]
  },
  {
   "cell_type": "code",
   "execution_count": 14,
   "id": "4b0025d1",
   "metadata": {},
   "outputs": [
    {
     "data": {
      "text/plain": [
       "[1, 6, 3, 4]"
      ]
     },
     "execution_count": 14,
     "metadata": {},
     "output_type": "execute_result"
    }
   ],
   "source": [
    "lst1[1]=6\n",
    "lst1"
   ]
  },
  {
   "cell_type": "markdown",
   "id": "8633f8d5",
   "metadata": {},
   "source": [
    "# Deleting a List"
   ]
  },
  {
   "cell_type": "code",
   "execution_count": 15,
   "id": "f961ade5",
   "metadata": {},
   "outputs": [
    {
     "data": {
      "text/plain": [
       "[1, 3, 4]"
      ]
     },
     "execution_count": 15,
     "metadata": {},
     "output_type": "execute_result"
    }
   ],
   "source": [
    "#1. we can delete any element in list using del keyword\n",
    "del lst1[1]\n",
    "lst1"
   ]
  },
  {
   "cell_type": "code",
   "execution_count": 16,
   "id": "c6d6c46b",
   "metadata": {},
   "outputs": [
    {
     "ename": "NameError",
     "evalue": "name 'lst1' is not defined",
     "output_type": "error",
     "traceback": [
      "\u001b[1;31m---------------------------------------------------------------------------\u001b[0m",
      "\u001b[1;31mNameError\u001b[0m                                 Traceback (most recent call last)",
      "\u001b[1;32m~\\AppData\\Local\\Temp\\ipykernel_13596\\1457899900.py\u001b[0m in \u001b[0;36m<module>\u001b[1;34m\u001b[0m\n\u001b[0;32m      1\u001b[0m \u001b[1;31m#2. we can delete entire list using del keyword\u001b[0m\u001b[1;33m\u001b[0m\u001b[1;33m\u001b[0m\u001b[0m\n\u001b[0;32m      2\u001b[0m \u001b[1;32mdel\u001b[0m \u001b[0mlst1\u001b[0m\u001b[1;33m\u001b[0m\u001b[1;33m\u001b[0m\u001b[0m\n\u001b[1;32m----> 3\u001b[1;33m \u001b[0mlst1\u001b[0m\u001b[1;33m\u001b[0m\u001b[1;33m\u001b[0m\u001b[0m\n\u001b[0m",
      "\u001b[1;31mNameError\u001b[0m: name 'lst1' is not defined"
     ]
    }
   ],
   "source": [
    "#2. we can delete entire list using del keyword\n",
    "del lst1\n",
    "lst1"
   ]
  },
  {
   "cell_type": "markdown",
   "id": "401231a4",
   "metadata": {},
   "source": [
    "# Methods on List\n",
    "# 1 Append()"
   ]
  },
  {
   "cell_type": "code",
   "execution_count": 17,
   "id": "96d96a5d",
   "metadata": {},
   "outputs": [
    {
     "data": {
      "text/plain": [
       "[1, 2, 3, 4, 5]"
      ]
     },
     "execution_count": 17,
     "metadata": {},
     "output_type": "execute_result"
    }
   ],
   "source": [
    "#1. append() adds 1 element at the end of the list\n",
    "lst1=[1,2,3,4]\n",
    "lst1\n",
    "lst1.append(5)\n",
    "lst1"
   ]
  },
  {
   "cell_type": "markdown",
   "id": "4e5fe35c",
   "metadata": {},
   "source": [
    "# 2 Extend()"
   ]
  },
  {
   "cell_type": "code",
   "execution_count": 18,
   "id": "2f260a83",
   "metadata": {},
   "outputs": [
    {
     "data": {
      "text/plain": [
       "[1, 'chetan dongare']"
      ]
     },
     "execution_count": 18,
     "metadata": {},
     "output_type": "execute_result"
    }
   ],
   "source": [
    "#2. extend() adds multiple elements at the end of the list\n",
    "lst1=[1,\"chetan dongare\",]\n",
    "lst1"
   ]
  },
  {
   "cell_type": "code",
   "execution_count": 21,
   "id": "0e9c5a23",
   "metadata": {},
   "outputs": [
    {
     "data": {
      "text/plain": [
       "[1, 'chetan dongare', 23, 88.85, 'Jakraiwadi', 23, 88.85, 'Jakraiwadi']"
      ]
     },
     "execution_count": 21,
     "metadata": {},
     "output_type": "execute_result"
    }
   ],
   "source": [
    "lst1.extend([23, 88.85,\"Jakraiwadi\"])\n",
    "lst1"
   ]
  },
  {
   "cell_type": "markdown",
   "id": "e585af49",
   "metadata": {},
   "source": [
    "# 3 Insert()"
   ]
  },
  {
   "cell_type": "code",
   "execution_count": 25,
   "id": "39b72026",
   "metadata": {},
   "outputs": [],
   "source": [
    "# insert() adds the element in the list at specified position\n",
    "lst1=[1,2,3,4,5,6]"
   ]
  },
  {
   "cell_type": "code",
   "execution_count": 27,
   "id": "77b12dd5",
   "metadata": {},
   "outputs": [
    {
     "data": {
      "text/plain": [
       "[1, 2, 3, 'chetan', 40, 4, 5, 6]"
      ]
     },
     "execution_count": 27,
     "metadata": {},
     "output_type": "execute_result"
    }
   ],
   "source": [
    "lst1.insert(3,\"chetan\")\n",
    "lst1"
   ]
  },
  {
   "cell_type": "code",
   "execution_count": 28,
   "id": "cccb1bef",
   "metadata": {},
   "outputs": [
    {
     "data": {
      "text/plain": [
       "[1, 2, 3, 'chetan', 'dongare', 40, 4, 5, 6]"
      ]
     },
     "execution_count": 28,
     "metadata": {},
     "output_type": "execute_result"
    }
   ],
   "source": [
    "lst1.insert(-4,\"dongare\")\n",
    "lst1"
   ]
  },
  {
   "cell_type": "markdown",
   "id": "41b40837",
   "metadata": {},
   "source": [
    "# 4 Remove()"
   ]
  },
  {
   "cell_type": "code",
   "execution_count": 32,
   "id": "ea2792ca",
   "metadata": {},
   "outputs": [
    {
     "data": {
      "text/plain": [
       "[1, 2, 3, 'chetan', 'dongare', 4, 5, 6]"
      ]
     },
     "execution_count": 32,
     "metadata": {},
     "output_type": "execute_result"
    }
   ],
   "source": [
    "#remove() removes the first occurance of the given element in list\n",
    "lst1.remove(40)\n",
    "lst1"
   ]
  },
  {
   "cell_type": "markdown",
   "id": "6db47972",
   "metadata": {},
   "source": [
    "# 5 Pop()"
   ]
  },
  {
   "cell_type": "code",
   "execution_count": 33,
   "id": "d3b10f27",
   "metadata": {},
   "outputs": [
    {
     "data": {
      "text/plain": [
       "[1, 2, 3, 'chetan', 'dongare', 4, 6]"
      ]
     },
     "execution_count": 33,
     "metadata": {},
     "output_type": "execute_result"
    }
   ],
   "source": [
    "#pop() removes and returns the items from list\n",
    "#1. pop(index) removes item present at index position\n",
    "lst1.pop(6)\n",
    "lst1"
   ]
  },
  {
   "cell_type": "code",
   "execution_count": 34,
   "id": "ae710b88",
   "metadata": {},
   "outputs": [
    {
     "data": {
      "text/plain": [
       "[1, 2, 3, 'chetan', 'dongare', 4]"
      ]
     },
     "execution_count": 34,
     "metadata": {},
     "output_type": "execute_result"
    }
   ],
   "source": [
    "#2. pop() when no index specified then removes last element\n",
    "lst1.pop()\n",
    "lst1"
   ]
  },
  {
   "cell_type": "markdown",
   "id": "42c68842",
   "metadata": {},
   "source": [
    "# 6 Clear() "
   ]
  },
  {
   "cell_type": "code",
   "execution_count": 35,
   "id": "9b4fec1d",
   "metadata": {},
   "outputs": [
    {
     "data": {
      "text/plain": [
       "[]"
      ]
     },
     "execution_count": 35,
     "metadata": {},
     "output_type": "execute_result"
    }
   ],
   "source": [
    "#clear() method removes all items from the list\n",
    "#it is equivivalent to del list[:]\n",
    "lst1.clear()\n",
    "lst1"
   ]
  },
  {
   "cell_type": "code",
   "execution_count": 36,
   "id": "9327fee4",
   "metadata": {},
   "outputs": [
    {
     "data": {
      "text/plain": [
       "[]"
      ]
     },
     "execution_count": 36,
     "metadata": {},
     "output_type": "execute_result"
    }
   ],
   "source": [
    "lst2=[1,2,3,4,5,6]\n",
    "del lst2[:]\n",
    "lst2"
   ]
  },
  {
   "cell_type": "markdown",
   "id": "7c3dffa1",
   "metadata": {},
   "source": [
    "# 7 Index()"
   ]
  },
  {
   "cell_type": "code",
   "execution_count": 37,
   "id": "5a8595e2",
   "metadata": {},
   "outputs": [
    {
     "data": {
      "text/plain": [
       "2"
      ]
     },
     "execution_count": 37,
     "metadata": {},
     "output_type": "execute_result"
    }
   ],
   "source": [
    "# Index() method returns the index of the given element\n",
    "#we can use it in following ways\n",
    "#1. list.index(item) returns the index of item at first occurance\n",
    "lst1=[1,2,3,4,5,6,7]\n",
    "lst1.index(3)"
   ]
  },
  {
   "cell_type": "code",
   "execution_count": 39,
   "id": "79467a7a",
   "metadata": {},
   "outputs": [
    {
     "data": {
      "text/plain": [
       "6"
      ]
     },
     "execution_count": 39,
     "metadata": {},
     "output_type": "execute_result"
    }
   ],
   "source": [
    "#2. list.index(item, start_index) searches item from start_index and returns the index of item at first occurance\n",
    "lst1=[10,15,20,30,10,15,20,30,10,15,20,30]\n",
    "lst1.index(20,3)"
   ]
  },
  {
   "cell_type": "code",
   "execution_count": 41,
   "id": "41a0dba5",
   "metadata": {},
   "outputs": [
    {
     "data": {
      "text/plain": [
       "6"
      ]
     },
     "execution_count": 41,
     "metadata": {},
     "output_type": "execute_result"
    }
   ],
   "source": [
    "#with negative index : it searches from -ve index & returns item's +ve index\n",
    "lst1.index(20,-8)"
   ]
  },
  {
   "cell_type": "code",
   "execution_count": 40,
   "id": "2b57e31c",
   "metadata": {},
   "outputs": [
    {
     "data": {
      "text/plain": [
       "5"
      ]
     },
     "execution_count": 40,
     "metadata": {},
     "output_type": "execute_result"
    }
   ],
   "source": [
    "#3. list.index(item,start_index,end_index) \n",
    "#searches item from start_index to end_index and returns the index of item at first occurance\n",
    "lst1.index(15,2,6)"
   ]
  },
  {
   "cell_type": "code",
   "execution_count": 42,
   "id": "5f386cca",
   "metadata": {},
   "outputs": [
    {
     "data": {
      "text/plain": [
       "5"
      ]
     },
     "execution_count": 42,
     "metadata": {},
     "output_type": "execute_result"
    }
   ],
   "source": [
    "#with negative index : it searches from -ve start to -ve end index & returns item's +ve index\n",
    "lst1.index(15,-10,-6)"
   ]
  },
  {
   "cell_type": "markdown",
   "id": "b7d0b9b6",
   "metadata": {},
   "source": [
    "# 8 Count()"
   ]
  },
  {
   "cell_type": "code",
   "execution_count": 43,
   "id": "7c8e3d6f",
   "metadata": {},
   "outputs": [
    {
     "data": {
      "text/plain": [
       "[10, 15, 20, 30, 10, 15, 20, 30, 10, 15, 20, 30]"
      ]
     },
     "execution_count": 43,
     "metadata": {},
     "output_type": "execute_result"
    }
   ],
   "source": [
    "#count() method used to find number of occurence of item in the list\n",
    "lst1"
   ]
  },
  {
   "cell_type": "code",
   "execution_count": 44,
   "id": "bf5f93f9",
   "metadata": {},
   "outputs": [
    {
     "data": {
      "text/plain": [
       "3"
      ]
     },
     "execution_count": 44,
     "metadata": {},
     "output_type": "execute_result"
    }
   ],
   "source": [
    "lst1.count(15)"
   ]
  },
  {
   "cell_type": "markdown",
   "id": "5259544c",
   "metadata": {},
   "source": [
    "# 9 sort()"
   ]
  },
  {
   "cell_type": "code",
   "execution_count": 45,
   "id": "08e1930a",
   "metadata": {},
   "outputs": [
    {
     "data": {
      "text/plain": [
       "[11, 45, 66, 82, 94, 32, 54, 61, 72, 38]"
      ]
     },
     "execution_count": 45,
     "metadata": {},
     "output_type": "execute_result"
    }
   ],
   "source": [
    "#sort() method used to sorting the items of the list in ascending or descending order\n",
    "lst1=[11,45,66,82,94,32,54,61,72,38]\n",
    "lst1"
   ]
  },
  {
   "cell_type": "code",
   "execution_count": 46,
   "id": "b3453506",
   "metadata": {},
   "outputs": [
    {
     "data": {
      "text/plain": [
       "[11, 32, 38, 45, 54, 61, 66, 72, 82, 94]"
      ]
     },
     "execution_count": 46,
     "metadata": {},
     "output_type": "execute_result"
    }
   ],
   "source": [
    "#1. Ascending order\n",
    "lst1.sort()\n",
    "lst1"
   ]
  },
  {
   "cell_type": "code",
   "execution_count": 47,
   "id": "a426bd4d",
   "metadata": {},
   "outputs": [
    {
     "data": {
      "text/plain": [
       "[94, 82, 72, 66, 61, 54, 45, 38, 32, 11]"
      ]
     },
     "execution_count": 47,
     "metadata": {},
     "output_type": "execute_result"
    }
   ],
   "source": [
    "#2. Descending order\n",
    "lst1.sort(reverse=True)\n",
    "lst1"
   ]
  },
  {
   "cell_type": "markdown",
   "id": "45589e00",
   "metadata": {},
   "source": [
    "# 10 Reverse()"
   ]
  },
  {
   "cell_type": "code",
   "execution_count": 48,
   "id": "151cdfa0",
   "metadata": {},
   "outputs": [
    {
     "data": {
      "text/plain": [
       "[85, 45, 32, 66, 45]"
      ]
     },
     "execution_count": 48,
     "metadata": {},
     "output_type": "execute_result"
    }
   ],
   "source": [
    "#reverse() method used to reverse the order of the items in the list\n",
    "lst1=[45,66,32,45,85]\n",
    "lst1.reverse()\n",
    "lst1"
   ]
  },
  {
   "cell_type": "markdown",
   "id": "0701387e",
   "metadata": {},
   "source": [
    "# 11 Copy()"
   ]
  },
  {
   "cell_type": "code",
   "execution_count": 49,
   "id": "18a2706d",
   "metadata": {},
   "outputs": [
    {
     "data": {
      "text/plain": [
       "[85, 45, 32, 66, 45]"
      ]
     },
     "execution_count": 49,
     "metadata": {},
     "output_type": "execute_result"
    }
   ],
   "source": [
    "#copy() method used to make a copy of list\n",
    "lst2=lst1.copy()\n",
    "lst2"
   ]
  },
  {
   "cell_type": "markdown",
   "id": "5d16bcf8",
   "metadata": {},
   "source": [
    "# Functions on List"
   ]
  },
  {
   "cell_type": "markdown",
   "id": "b5d92d8f",
   "metadata": {},
   "source": [
    "# 1 len()\n"
   ]
  },
  {
   "cell_type": "code",
   "execution_count": 50,
   "id": "8b77b08d",
   "metadata": {},
   "outputs": [
    {
     "data": {
      "text/plain": [
       "5"
      ]
     },
     "execution_count": 50,
     "metadata": {},
     "output_type": "execute_result"
    }
   ],
   "source": [
    "#len() function returns length of list\n",
    "len(lst1)"
   ]
  },
  {
   "cell_type": "markdown",
   "id": "7e799dec",
   "metadata": {},
   "source": [
    "# 2 max()"
   ]
  },
  {
   "cell_type": "code",
   "execution_count": 51,
   "id": "3bd002ba",
   "metadata": {},
   "outputs": [
    {
     "data": {
      "text/plain": [
       "85"
      ]
     },
     "execution_count": 51,
     "metadata": {},
     "output_type": "execute_result"
    }
   ],
   "source": [
    "#max() fuction returns the greatest element present in list\n",
    "max(lst1)"
   ]
  },
  {
   "cell_type": "markdown",
   "id": "065be005",
   "metadata": {},
   "source": [
    "# 3 min()"
   ]
  },
  {
   "cell_type": "code",
   "execution_count": 52,
   "id": "9638299f",
   "metadata": {},
   "outputs": [
    {
     "data": {
      "text/plain": [
       "32"
      ]
     },
     "execution_count": 52,
     "metadata": {},
     "output_type": "execute_result"
    }
   ],
   "source": [
    "#min() fuction returns the least element present in list\n",
    "min(lst1)"
   ]
  },
  {
   "cell_type": "markdown",
   "id": "d3f02779",
   "metadata": {},
   "source": [
    "# 4 sum()"
   ]
  },
  {
   "cell_type": "code",
   "execution_count": 53,
   "id": "80d96736",
   "metadata": {},
   "outputs": [
    {
     "data": {
      "text/plain": [
       "273"
      ]
     },
     "execution_count": 53,
     "metadata": {},
     "output_type": "execute_result"
    }
   ],
   "source": [
    "#sum() function returns the total of items in list\n",
    "sum(lst1)"
   ]
  },
  {
   "cell_type": "code",
   "execution_count": null,
   "id": "7d4c1b81",
   "metadata": {},
   "outputs": [],
   "source": []
  }
 ],
 "metadata": {
  "kernelspec": {
   "display_name": "Python 3 (ipykernel)",
   "language": "python",
   "name": "python3"
  },
  "language_info": {
   "codemirror_mode": {
    "name": "ipython",
    "version": 3
   },
   "file_extension": ".py",
   "mimetype": "text/x-python",
   "name": "python",
   "nbconvert_exporter": "python",
   "pygments_lexer": "ipython3",
   "version": "3.9.13"
  }
 },
 "nbformat": 4,
 "nbformat_minor": 5
}
