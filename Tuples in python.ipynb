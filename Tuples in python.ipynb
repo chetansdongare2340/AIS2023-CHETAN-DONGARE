{
 "cells": [
  {
   "cell_type": "markdown",
   "id": "8ec748a8",
   "metadata": {},
   "source": [
    "# Tuples in python"
   ]
  },
  {
   "cell_type": "code",
   "execution_count": 1,
   "id": "021d79cb",
   "metadata": {},
   "outputs": [],
   "source": [
    "#touple is a seqence of immutable objects\n",
    "#tuple contains comma seperated values and enclosed with ()\n"
   ]
  },
  {
   "cell_type": "markdown",
   "id": "8e532a33",
   "metadata": {},
   "source": [
    "# Creation of tuple"
   ]
  },
  {
   "cell_type": "code",
   "execution_count": 2,
   "id": "d52f247d",
   "metadata": {},
   "outputs": [
    {
     "data": {
      "text/plain": [
       "(1, 2, 3, 4, 5)"
      ]
     },
     "execution_count": 2,
     "metadata": {},
     "output_type": "execute_result"
    }
   ],
   "source": [
    "#1 using () brackets\n",
    "t1=(1,2,3,4,5)\n",
    "t1"
   ]
  },
  {
   "cell_type": "code",
   "execution_count": 5,
   "id": "017aa928",
   "metadata": {},
   "outputs": [
    {
     "data": {
      "text/plain": [
       "(1, 2, 3, 4, 5, 6)"
      ]
     },
     "execution_count": 5,
     "metadata": {},
     "output_type": "execute_result"
    }
   ],
   "source": [
    "#2. using tuple() method\n",
    "t2=tuple((1,2,3,4,5,6))\n",
    "t2"
   ]
  },
  {
   "cell_type": "code",
   "execution_count": 7,
   "id": "cd2ed361",
   "metadata": {},
   "outputs": [
    {
     "data": {
      "text/plain": [
       "('c', 'h', 'e', 't', 'a', 'n', ' ', 'd', 'o', 'n', 'g', 'a', 'r', 'e')"
      ]
     },
     "execution_count": 7,
     "metadata": {},
     "output_type": "execute_result"
    }
   ],
   "source": [
    "t3=tuple('chetan dongare')\n",
    "t3"
   ]
  },
  {
   "cell_type": "markdown",
   "id": "da962c74",
   "metadata": {},
   "source": [
    "# Slicing of tuples"
   ]
  },
  {
   "cell_type": "code",
   "execution_count": 10,
   "id": "796ed871",
   "metadata": {},
   "outputs": [
    {
     "data": {
      "text/plain": [
       "(1, 2, 3, 4, 5, 6, 7, 8, 9, 10)"
      ]
     },
     "execution_count": 10,
     "metadata": {},
     "output_type": "execute_result"
    }
   ],
   "source": [
    "t1=(1,2,3,4,5,6,7,8,9,10)\n",
    "t1"
   ]
  },
  {
   "cell_type": "code",
   "execution_count": 11,
   "id": "0735741e",
   "metadata": {},
   "outputs": [
    {
     "data": {
      "text/plain": [
       "(1, 2, 3, 4, 5, 6, 7, 8, 9, 10)"
      ]
     },
     "execution_count": 11,
     "metadata": {},
     "output_type": "execute_result"
    }
   ],
   "source": [
    "#1. tuple[:] or tuple[::] used to print whole tuple\n",
    "t1[::]"
   ]
  },
  {
   "cell_type": "code",
   "execution_count": 12,
   "id": "47da89d0",
   "metadata": {},
   "outputs": [
    {
     "data": {
      "text/plain": [
       "(5, 6, 7, 8, 9, 10)"
      ]
     },
     "execution_count": 12,
     "metadata": {},
     "output_type": "execute_result"
    }
   ],
   "source": [
    "#2. tuple[start:] used to print items of tuple from given index\n",
    "t1[4:]"
   ]
  },
  {
   "cell_type": "code",
   "execution_count": 13,
   "id": "4772c7d8",
   "metadata": {},
   "outputs": [
    {
     "data": {
      "text/plain": [
       "(1, 2, 3, 4, 5)"
      ]
     },
     "execution_count": 13,
     "metadata": {},
     "output_type": "execute_result"
    }
   ],
   "source": [
    "#3. tuple[:end] used to print items of tuple upto given index, It excludes last index\n",
    "t1[:5]"
   ]
  },
  {
   "cell_type": "code",
   "execution_count": 14,
   "id": "4bc2b2bf",
   "metadata": {},
   "outputs": [
    {
     "data": {
      "text/plain": [
       "(3, 5, 7, 9)"
      ]
     },
     "execution_count": 14,
     "metadata": {},
     "output_type": "execute_result"
    }
   ],
   "source": [
    "#4. tuple[start:end:step] prints elements from start to end index with step value\n",
    "t1[2:9:2]"
   ]
  },
  {
   "cell_type": "code",
   "execution_count": 19,
   "id": "895c8783",
   "metadata": {},
   "outputs": [
    {
     "data": {
      "text/plain": [
       "(10, 9, 8, 7, 6, 5, 4)"
      ]
     },
     "execution_count": 19,
     "metadata": {},
     "output_type": "execute_result"
    }
   ],
   "source": [
    "#5. supports -ve index slicing\n",
    "t1[-1:-8:-1]"
   ]
  },
  {
   "cell_type": "markdown",
   "id": "5d9280bb",
   "metadata": {},
   "source": [
    "# Deleting a tuple"
   ]
  },
  {
   "cell_type": "code",
   "execution_count": 21,
   "id": "ba18efc3",
   "metadata": {},
   "outputs": [
    {
     "ename": "NameError",
     "evalue": "name 't1' is not defined",
     "output_type": "error",
     "traceback": [
      "\u001b[1;31m---------------------------------------------------------------------------\u001b[0m",
      "\u001b[1;31mNameError\u001b[0m                                 Traceback (most recent call last)",
      "\u001b[1;32m~\\AppData\\Local\\Temp\\ipykernel_11732\\1479260232.py\u001b[0m in \u001b[0;36m<module>\u001b[1;34m\u001b[0m\n\u001b[0;32m      2\u001b[0m \u001b[0mt1\u001b[0m\u001b[1;33m=\u001b[0m\u001b[1;33m(\u001b[0m\u001b[1;36m1\u001b[0m\u001b[1;33m,\u001b[0m\u001b[1;36m2\u001b[0m\u001b[1;33m,\u001b[0m\u001b[1;36m3\u001b[0m\u001b[1;33m,\u001b[0m\u001b[1;36m4\u001b[0m\u001b[1;33m,\u001b[0m\u001b[1;36m5\u001b[0m\u001b[1;33m,\u001b[0m\u001b[1;36m6\u001b[0m\u001b[1;33m,\u001b[0m\u001b[1;36m7\u001b[0m\u001b[1;33m,\u001b[0m\u001b[1;36m8\u001b[0m\u001b[1;33m,\u001b[0m\u001b[1;36m9\u001b[0m\u001b[1;33m,\u001b[0m\u001b[1;36m10\u001b[0m\u001b[1;33m)\u001b[0m\u001b[1;33m\u001b[0m\u001b[1;33m\u001b[0m\u001b[0m\n\u001b[0;32m      3\u001b[0m \u001b[1;32mdel\u001b[0m \u001b[0mt1\u001b[0m\u001b[1;33m\u001b[0m\u001b[1;33m\u001b[0m\u001b[0m\n\u001b[1;32m----> 4\u001b[1;33m \u001b[0mt1\u001b[0m\u001b[1;33m\u001b[0m\u001b[1;33m\u001b[0m\u001b[0m\n\u001b[0m",
      "\u001b[1;31mNameError\u001b[0m: name 't1' is not defined"
     ]
    }
   ],
   "source": [
    "#we delete tuples using del keyword\n",
    "t1=(1,2,3,4,5,6,7,8,9,10)\n",
    "del t1\n",
    "t1"
   ]
  },
  {
   "cell_type": "markdown",
   "id": "a0a6e7a9",
   "metadata": {},
   "source": [
    "# Methods on tuples"
   ]
  },
  {
   "cell_type": "code",
   "execution_count": 22,
   "id": "f856368e",
   "metadata": {},
   "outputs": [],
   "source": [
    "#tuples support only 2 methods 1.Count 2.Index"
   ]
  },
  {
   "cell_type": "markdown",
   "id": "17ba8464",
   "metadata": {},
   "source": [
    "# 1 count()"
   ]
  },
  {
   "cell_type": "code",
   "execution_count": 23,
   "id": "da535a21",
   "metadata": {},
   "outputs": [
    {
     "data": {
      "text/plain": [
       "3"
      ]
     },
     "execution_count": 23,
     "metadata": {},
     "output_type": "execute_result"
    }
   ],
   "source": [
    "#count() method used to find number of occurence of item in the tuple\n",
    "t1=(1,2,3,4,5,4,3,2,1,2,3)\n",
    "t1.count(2)\n"
   ]
  },
  {
   "cell_type": "markdown",
   "id": "ca9a2136",
   "metadata": {},
   "source": [
    "# 2 Index()"
   ]
  },
  {
   "cell_type": "code",
   "execution_count": 24,
   "id": "3488bb3d",
   "metadata": {},
   "outputs": [
    {
     "data": {
      "text/plain": [
       "5"
      ]
     },
     "execution_count": 24,
     "metadata": {},
     "output_type": "execute_result"
    }
   ],
   "source": [
    "#index() method returns the index of item at first occurence\n",
    "t1=(1,2,3,4,5,4,3,2,1,2,3)\n",
    "t1.index(4,4)"
   ]
  },
  {
   "cell_type": "markdown",
   "id": "2bb57063",
   "metadata": {},
   "source": [
    "# Functions of tuples"
   ]
  },
  {
   "cell_type": "markdown",
   "id": "c3ef45f2",
   "metadata": {},
   "source": [
    "# 1 len()"
   ]
  },
  {
   "cell_type": "code",
   "execution_count": 25,
   "id": "779f10f2",
   "metadata": {},
   "outputs": [
    {
     "data": {
      "text/plain": [
       "11"
      ]
     },
     "execution_count": 25,
     "metadata": {},
     "output_type": "execute_result"
    }
   ],
   "source": [
    "#It returns the number of items present in tuple\n",
    "t1=(1,2,3,4,5,4,3,2,1,2,3)\n",
    "len(t1)"
   ]
  },
  {
   "cell_type": "markdown",
   "id": "a0a43b50",
   "metadata": {},
   "source": [
    "# 2 sum()"
   ]
  },
  {
   "cell_type": "code",
   "execution_count": 26,
   "id": "49ab0f30",
   "metadata": {},
   "outputs": [
    {
     "data": {
      "text/plain": [
       "30"
      ]
     },
     "execution_count": 26,
     "metadata": {},
     "output_type": "execute_result"
    }
   ],
   "source": [
    "#It returns the sum of the elements.\n",
    "t1=(1,2,3,4,5,4,3,2,1,2,3)\n",
    "sum(t1)"
   ]
  },
  {
   "cell_type": "markdown",
   "id": "b82446d8",
   "metadata": {},
   "source": [
    "# 3 sorted()"
   ]
  },
  {
   "cell_type": "code",
   "execution_count": 27,
   "id": "ff93c4d0",
   "metadata": {},
   "outputs": [
    {
     "data": {
      "text/plain": [
       "[24, 28, 36, 38, 45, 56, 69, 96]"
      ]
     },
     "execution_count": 27,
     "metadata": {},
     "output_type": "execute_result"
    }
   ],
   "source": [
    "#It sorts the elements of tuples in ascending or descending order\n",
    "#1. Ascending Order\n",
    "t1=(36,24,56,45,28,38,96,69)\n",
    "sorted(t1)\n"
   ]
  },
  {
   "cell_type": "code",
   "execution_count": 28,
   "id": "07dfe45d",
   "metadata": {},
   "outputs": [
    {
     "data": {
      "text/plain": [
       "[96, 69, 56, 45, 38, 36, 28, 24]"
      ]
     },
     "execution_count": 28,
     "metadata": {},
     "output_type": "execute_result"
    }
   ],
   "source": [
    "#2. Descending order\n",
    "sorted(t1,reverse=True)"
   ]
  },
  {
   "cell_type": "markdown",
   "id": "8a856595",
   "metadata": {},
   "source": [
    "# 4 Reversed(seq)"
   ]
  },
  {
   "cell_type": "code",
   "execution_count": 32,
   "id": "d587bdc4",
   "metadata": {},
   "outputs": [
    {
     "data": {
      "text/plain": [
       "(69, 96, 38, 28, 45, 56, 24, 36)"
      ]
     },
     "execution_count": 32,
     "metadata": {},
     "output_type": "execute_result"
    }
   ],
   "source": [
    "#It reverses the tuple. Seq must be an object\n",
    "t1=(36,24,56,45,28,38,96,69)\n",
    "tuple(reversed(t1))"
   ]
  },
  {
   "cell_type": "markdown",
   "id": "3eff3bb0",
   "metadata": {},
   "source": [
    "# 5 Max()"
   ]
  },
  {
   "cell_type": "code",
   "execution_count": 33,
   "id": "2f2bc00d",
   "metadata": {},
   "outputs": [
    {
     "data": {
      "text/plain": [
       "96"
      ]
     },
     "execution_count": 33,
     "metadata": {},
     "output_type": "execute_result"
    }
   ],
   "source": [
    "#It returns the largest element from tuple\n",
    "t1=(36,24,56,45,28,38,96,69)\n",
    "max(t1)"
   ]
  },
  {
   "cell_type": "markdown",
   "id": "352ae673",
   "metadata": {},
   "source": [
    "# 6 Min()"
   ]
  },
  {
   "cell_type": "code",
   "execution_count": 34,
   "id": "adb3e26b",
   "metadata": {},
   "outputs": [
    {
     "data": {
      "text/plain": [
       "24"
      ]
     },
     "execution_count": 34,
     "metadata": {},
     "output_type": "execute_result"
    }
   ],
   "source": [
    "#It returns the least element from tuple\n",
    "t1=(36,24,56,45,28,38,96,69)\n",
    "min(t1)"
   ]
  },
  {
   "cell_type": "code",
   "execution_count": null,
   "id": "b995de3e",
   "metadata": {},
   "outputs": [],
   "source": []
  }
 ],
 "metadata": {
  "kernelspec": {
   "display_name": "Python 3 (ipykernel)",
   "language": "python",
   "name": "python3"
  },
  "language_info": {
   "codemirror_mode": {
    "name": "ipython",
    "version": 3
   },
   "file_extension": ".py",
   "mimetype": "text/x-python",
   "name": "python",
   "nbconvert_exporter": "python",
   "pygments_lexer": "ipython3",
   "version": "3.9.13"
  }
 },
 "nbformat": 4,
 "nbformat_minor": 5
}
