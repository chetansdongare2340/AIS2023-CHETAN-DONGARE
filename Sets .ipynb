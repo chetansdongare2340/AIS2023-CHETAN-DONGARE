{
 "cells": [
  {
   "cell_type": "markdown",
   "id": "79edfa23",
   "metadata": {},
   "source": [
    "# Sets in Python"
   ]
  },
  {
   "cell_type": "code",
   "execution_count": 1,
   "id": "562587e6",
   "metadata": {},
   "outputs": [],
   "source": [
    "#set is an unordered collection of unique elements. \n",
    "#Enclosed with {}\n",
    "#Set objects are mutable\n",
    "#Duplicates are not allowed\n",
    "#Insertion order is not preserved so indexing and slicing is not allowed for sets."
   ]
  },
  {
   "cell_type": "markdown",
   "id": "b249cb3c",
   "metadata": {},
   "source": [
    "# Creation of sets"
   ]
  },
  {
   "cell_type": "code",
   "execution_count": 2,
   "id": "e9da62af",
   "metadata": {},
   "outputs": [
    {
     "data": {
      "text/plain": [
       "{10, 20, 30, 40}"
      ]
     },
     "execution_count": 2,
     "metadata": {},
     "output_type": "execute_result"
    }
   ],
   "source": [
    "#1. with {}\n",
    "s1={10,20,30,40}\n",
    "s1"
   ]
  },
  {
   "cell_type": "code",
   "execution_count": 3,
   "id": "1d250706",
   "metadata": {},
   "outputs": [
    {
     "data": {
      "text/plain": [
       "{50, 60, 70, 80}"
      ]
     },
     "execution_count": 3,
     "metadata": {},
     "output_type": "execute_result"
    }
   ],
   "source": [
    "#2. using set() function\n",
    "s2=set({50,60,70,80})\n",
    "s2"
   ]
  },
  {
   "cell_type": "code",
   "execution_count": 4,
   "id": "ba08ef4a",
   "metadata": {},
   "outputs": [
    {
     "data": {
      "text/plain": [
       "{' ', 'a', 'c', 'd', 'e', 'g', 'h', 'n', 'o', 'r', 't'}"
      ]
     },
     "execution_count": 4,
     "metadata": {},
     "output_type": "execute_result"
    }
   ],
   "source": [
    "s3=set(\"chetan dongare\")\n",
    "s3"
   ]
  },
  {
   "cell_type": "markdown",
   "id": "6a60cdc2",
   "metadata": {},
   "source": [
    "# Accessing set elements"
   ]
  },
  {
   "cell_type": "code",
   "execution_count": 5,
   "id": "875b9b0a",
   "metadata": {},
   "outputs": [
    {
     "name": "stdout",
     "output_type": "stream",
     "text": [
      "3\n",
      "1\n",
      "(4, 5)\n",
      "2\n"
     ]
    }
   ],
   "source": [
    "#we can access set elements using looping statements\n",
    "set1={1,2,3,(4,5)}\n",
    "for i in set1:\n",
    "    print(i)"
   ]
  },
  {
   "cell_type": "markdown",
   "id": "48551645",
   "metadata": {},
   "source": [
    "# Deleting set"
   ]
  },
  {
   "cell_type": "code",
   "execution_count": 6,
   "id": "1f3386b6",
   "metadata": {},
   "outputs": [
    {
     "ename": "NameError",
     "evalue": "name 'set1' is not defined",
     "output_type": "error",
     "traceback": [
      "\u001b[1;31m---------------------------------------------------------------------------\u001b[0m",
      "\u001b[1;31mNameError\u001b[0m                                 Traceback (most recent call last)",
      "\u001b[1;32m~\\AppData\\Local\\Temp\\ipykernel_15304\\454836763.py\u001b[0m in \u001b[0;36m<module>\u001b[1;34m\u001b[0m\n\u001b[0;32m      1\u001b[0m \u001b[1;31m#we can delete the set using del keyword\u001b[0m\u001b[1;33m\u001b[0m\u001b[1;33m\u001b[0m\u001b[0m\n\u001b[0;32m      2\u001b[0m \u001b[1;32mdel\u001b[0m \u001b[0mset1\u001b[0m\u001b[1;33m\u001b[0m\u001b[1;33m\u001b[0m\u001b[0m\n\u001b[1;32m----> 3\u001b[1;33m \u001b[0mset1\u001b[0m\u001b[1;33m\u001b[0m\u001b[1;33m\u001b[0m\u001b[0m\n\u001b[0m",
      "\u001b[1;31mNameError\u001b[0m: name 'set1' is not defined"
     ]
    }
   ],
   "source": [
    "#we can delete the set using del keyword\n",
    "del set1\n",
    "set1"
   ]
  },
  {
   "cell_type": "markdown",
   "id": "3153fa36",
   "metadata": {},
   "source": [
    "# Methods on set"
   ]
  },
  {
   "cell_type": "markdown",
   "id": "11f82610",
   "metadata": {},
   "source": [
    "# 1 Union()"
   ]
  },
  {
   "cell_type": "code",
   "execution_count": 7,
   "id": "317803be",
   "metadata": {},
   "outputs": [
    {
     "data": {
      "text/plain": [
       "{1, 2, 3, 4, 5, 6}"
      ]
     },
     "execution_count": 7,
     "metadata": {},
     "output_type": "execute_result"
    }
   ],
   "source": [
    "#It returns a set with elements from other\n",
    "s1={1,2,3}\n",
    "s2={4,5,6}\n",
    "s1.union(s2)"
   ]
  },
  {
   "cell_type": "markdown",
   "id": "d8916dbf",
   "metadata": {},
   "source": [
    "# 2 Intersection()\n"
   ]
  },
  {
   "cell_type": "code",
   "execution_count": 9,
   "id": "02f28c18",
   "metadata": {},
   "outputs": [
    {
     "data": {
      "text/plain": [
       "{3, 4, 5}"
      ]
     },
     "execution_count": 9,
     "metadata": {},
     "output_type": "execute_result"
    }
   ],
   "source": [
    "#It returns a set with elements which are common to the set and all others\n",
    "s1={1,2,3,4,5}\n",
    "s2={3,4,5,6,7}\n",
    "s1.intersection(s2)"
   ]
  },
  {
   "cell_type": "markdown",
   "id": "d7b44549",
   "metadata": {},
   "source": [
    "# 3 difference()"
   ]
  },
  {
   "cell_type": "code",
   "execution_count": 18,
   "id": "5c51771a",
   "metadata": {},
   "outputs": [
    {
     "data": {
      "text/plain": [
       "{10, 20}"
      ]
     },
     "execution_count": 18,
     "metadata": {},
     "output_type": "execute_result"
    }
   ],
   "source": [
    "#It returns a set with elements which are not in all other sets\n",
    "s1={10,20,30,40}\n",
    "s2={30,40,50,60}\n",
    "s1.difference(s2)"
   ]
  },
  {
   "cell_type": "markdown",
   "id": "c3fb3dd9",
   "metadata": {},
   "source": [
    "# Mutation operations on set"
   ]
  },
  {
   "cell_type": "markdown",
   "id": "11414d08",
   "metadata": {},
   "source": [
    "# 1 set.add(value)"
   ]
  },
  {
   "cell_type": "code",
   "execution_count": 19,
   "id": "1909535c",
   "metadata": {},
   "outputs": [
    {
     "data": {
      "text/plain": [
       "{10, 20, 30, 40}"
      ]
     },
     "execution_count": 19,
     "metadata": {},
     "output_type": "execute_result"
    }
   ],
   "source": [
    "#It adds an element to the set\n",
    "s1={10,20,30}\n",
    "s1.add(40)\n",
    "s1"
   ]
  },
  {
   "cell_type": "markdown",
   "id": "b57f28d7",
   "metadata": {},
   "source": [
    "# 2 set.remove(value)\n"
   ]
  },
  {
   "cell_type": "code",
   "execution_count": 21,
   "id": "c4e37fcf",
   "metadata": {},
   "outputs": [
    {
     "data": {
      "text/plain": [
       "{10, 20, 30, 50}"
      ]
     },
     "execution_count": 21,
     "metadata": {},
     "output_type": "execute_result"
    }
   ],
   "source": [
    "# It removes the element from the set. If element not present then show error\n",
    "s1={10,20,30,40,50}\n",
    "s1.remove(40)\n",
    "s1"
   ]
  },
  {
   "cell_type": "markdown",
   "id": "f90442fd",
   "metadata": {},
   "source": [
    "# 3 set.discard(value)"
   ]
  },
  {
   "cell_type": "code",
   "execution_count": 22,
   "id": "ea36f74c",
   "metadata": {},
   "outputs": [
    {
     "data": {
      "text/plain": [
       "{10, 20, 30, 40, 50, 70, 80, 90}"
      ]
     },
     "execution_count": 22,
     "metadata": {},
     "output_type": "execute_result"
    }
   ],
   "source": [
    "#It removes the element from the set.  If element not present then does not show error\n",
    "s1=set(range(10,100,10))\n",
    "s1.discard(60)\n",
    "s1"
   ]
  },
  {
   "cell_type": "markdown",
   "id": "fa036cbb",
   "metadata": {},
   "source": [
    "# 4 set.pop()"
   ]
  },
  {
   "cell_type": "code",
   "execution_count": 23,
   "id": "5e94e7e8",
   "metadata": {},
   "outputs": [
    {
     "data": {
      "text/plain": [
       "35"
      ]
     },
     "execution_count": 23,
     "metadata": {},
     "output_type": "execute_result"
    }
   ],
   "source": [
    "#It removes and returns the removed element from set\n",
    "s1=set(range(10,50,5))\n",
    "s1.pop() #no indexing so removes random last elements"
   ]
  },
  {
   "cell_type": "markdown",
   "id": "13665b34",
   "metadata": {},
   "source": [
    "# 5 set.clear()"
   ]
  },
  {
   "cell_type": "code",
   "execution_count": 24,
   "id": "b4b056d0",
   "metadata": {},
   "outputs": [
    {
     "data": {
      "text/plain": [
       "set()"
      ]
     },
     "execution_count": 24,
     "metadata": {},
     "output_type": "execute_result"
    }
   ],
   "source": [
    "#It removes all values from set and makes it empty\n",
    "s1={1,2,3,4,5}\n",
    "s1.clear()\n",
    "s1"
   ]
  },
  {
   "cell_type": "markdown",
   "id": "c1ef3972",
   "metadata": {},
   "source": [
    "# Updation operations on sets"
   ]
  },
  {
   "cell_type": "markdown",
   "id": "e68315b7",
   "metadata": {},
   "source": [
    "# 1 set.update(set2,...,set n)"
   ]
  },
  {
   "cell_type": "code",
   "execution_count": 27,
   "id": "ab5b438c",
   "metadata": {},
   "outputs": [
    {
     "data": {
      "text/plain": [
       "{1, 2, 3, 4, 5, 6, 7, 8, 9}"
      ]
     },
     "execution_count": 27,
     "metadata": {},
     "output_type": "execute_result"
    }
   ],
   "source": [
    "#It adds elements from set2,...,set n\n",
    "s1={1,2,3,4,5}\n",
    "s2={6,7,8,9}\n",
    "s1.update(s2)\n",
    "s1"
   ]
  },
  {
   "cell_type": "code",
   "execution_count": 32,
   "id": "9694111d",
   "metadata": {},
   "outputs": [
    {
     "data": {
      "text/plain": [
       "{1, 2, 3, 4, 5, 6, 7, 8, 9}"
      ]
     },
     "execution_count": 32,
     "metadata": {},
     "output_type": "execute_result"
    }
   ],
   "source": [
    "#This operation represented by symbol |=\n",
    "s1={1,2,3,4,5}\n",
    "s2={6,7,8,9}\n",
    "s1 |= s2\n",
    "s1"
   ]
  },
  {
   "cell_type": "markdown",
   "id": "b6aad7bd",
   "metadata": {},
   "source": [
    "# 2 set.intersection_update(set2,...,set n)"
   ]
  },
  {
   "cell_type": "code",
   "execution_count": 28,
   "id": "f886cec0",
   "metadata": {},
   "outputs": [
    {
     "data": {
      "text/plain": [
       "{3, 4}"
      ]
     },
     "execution_count": 28,
     "metadata": {},
     "output_type": "execute_result"
    }
   ],
   "source": [
    "#It updates the common elements from all sets\n",
    "s1={1,2,3,4}\n",
    "s2={3,4,5,6}\n",
    "s1.intersection_update(s2)\n",
    "s1"
   ]
  },
  {
   "cell_type": "code",
   "execution_count": 31,
   "id": "aee444d7",
   "metadata": {},
   "outputs": [
    {
     "data": {
      "text/plain": [
       "{3, 4}"
      ]
     },
     "execution_count": 31,
     "metadata": {},
     "output_type": "execute_result"
    }
   ],
   "source": [
    "#This operation represented by symbol &=\n",
    "s1={1,2,3,4}\n",
    "s2={3,4,5,6}\n",
    "s1 &= s2\n",
    "s1"
   ]
  },
  {
   "cell_type": "markdown",
   "id": "f3d816c0",
   "metadata": {},
   "source": [
    "# 3 set.difference_update(set2,...,setn)\n"
   ]
  },
  {
   "cell_type": "code",
   "execution_count": 34,
   "id": "0f59df58",
   "metadata": {},
   "outputs": [
    {
     "data": {
      "text/plain": [
       "{1, 2}"
      ]
     },
     "execution_count": 34,
     "metadata": {},
     "output_type": "execute_result"
    }
   ],
   "source": [
    "#It updates the set by removing the elements in other sets\n",
    "s1={1,2,3,4,5}\n",
    "s2={3,4,5,6,7}\n",
    "s1.difference_update(s2) \n",
    "s1"
   ]
  },
  {
   "cell_type": "code",
   "execution_count": 33,
   "id": "02d47e2b",
   "metadata": {},
   "outputs": [
    {
     "data": {
      "text/plain": [
       "{1, 2}"
      ]
     },
     "execution_count": 33,
     "metadata": {},
     "output_type": "execute_result"
    }
   ],
   "source": [
    "#This operation represented by symbol -=\n",
    "s1={1,2,3,4,5}\n",
    "s2={3,4,5,6,7}\n",
    "s1 -= s2\n",
    "s1"
   ]
  },
  {
   "cell_type": "markdown",
   "id": "539d9ae9",
   "metadata": {},
   "source": [
    "# Functions on set"
   ]
  },
  {
   "cell_type": "markdown",
   "id": "6dec28b5",
   "metadata": {},
   "source": [
    "# 1 len()"
   ]
  },
  {
   "cell_type": "code",
   "execution_count": 35,
   "id": "862aed92",
   "metadata": {},
   "outputs": [
    {
     "data": {
      "text/plain": [
       "5"
      ]
     },
     "execution_count": 35,
     "metadata": {},
     "output_type": "execute_result"
    }
   ],
   "source": [
    "#this returns number of elements in set\n",
    "s1={1,2,3,4,5}\n",
    "len(s1)"
   ]
  },
  {
   "cell_type": "markdown",
   "id": "4337d6e8",
   "metadata": {},
   "source": [
    "# 2 sum() "
   ]
  },
  {
   "cell_type": "code",
   "execution_count": 36,
   "id": "5ca3311f",
   "metadata": {},
   "outputs": [
    {
     "data": {
      "text/plain": [
       "15"
      ]
     },
     "execution_count": 36,
     "metadata": {},
     "output_type": "execute_result"
    }
   ],
   "source": [
    "#this returns the sum of set elements\n",
    "#1. without index argument\n",
    "s1={1,2,3,4,5}\n",
    "sum(s1)"
   ]
  },
  {
   "cell_type": "code",
   "execution_count": 37,
   "id": "e6a32ad3",
   "metadata": {},
   "outputs": [
    {
     "data": {
      "text/plain": [
       "{1, 2, 3, 4, 5, 6, 7, 8, 9}"
      ]
     },
     "execution_count": 37,
     "metadata": {},
     "output_type": "execute_result"
    }
   ],
   "source": [
    "#2. with index argument\n",
    "s1=set(range(1,10,1))\n",
    "s1"
   ]
  },
  {
   "cell_type": "code",
   "execution_count": 38,
   "id": "522d607b",
   "metadata": {},
   "outputs": [
    {
     "data": {
      "text/plain": [
       "48"
      ]
     },
     "execution_count": 38,
     "metadata": {},
     "output_type": "execute_result"
    }
   ],
   "source": [
    "sum(s1,3)"
   ]
  },
  {
   "cell_type": "markdown",
   "id": "9a1fb7bf",
   "metadata": {},
   "source": [
    "# 3 sorted()"
   ]
  },
  {
   "cell_type": "code",
   "execution_count": 40,
   "id": "6dfd256c",
   "metadata": {},
   "outputs": [
    {
     "data": {
      "text/plain": [
       "[24, 36, 45, 63, 69, 96]"
      ]
     },
     "execution_count": 40,
     "metadata": {},
     "output_type": "execute_result"
    }
   ],
   "source": [
    "#It sorts the set elements in ascending or descending order\n",
    "#1. Ascending order\n",
    "s1={45,69,96,63,36,24}\n",
    "sorted(s1)"
   ]
  },
  {
   "cell_type": "code",
   "execution_count": 41,
   "id": "2750689f",
   "metadata": {},
   "outputs": [
    {
     "data": {
      "text/plain": [
       "[96, 69, 63, 45, 36, 24]"
      ]
     },
     "execution_count": 41,
     "metadata": {},
     "output_type": "execute_result"
    }
   ],
   "source": [
    "#2. Descending order\n",
    "sorted(s1,reverse=True)"
   ]
  },
  {
   "cell_type": "markdown",
   "id": "61554ae3",
   "metadata": {},
   "source": [
    "# 4 max()"
   ]
  },
  {
   "cell_type": "code",
   "execution_count": 42,
   "id": "57fa7569",
   "metadata": {},
   "outputs": [
    {
     "data": {
      "text/plain": [
       "96"
      ]
     },
     "execution_count": 42,
     "metadata": {},
     "output_type": "execute_result"
    }
   ],
   "source": [
    "#It returns the largest element from set\n",
    "s1={45,69,96,63,36,24}\n",
    "max(s1)"
   ]
  },
  {
   "cell_type": "markdown",
   "id": "9c787794",
   "metadata": {},
   "source": [
    "# 5 min()\n"
   ]
  },
  {
   "cell_type": "code",
   "execution_count": 43,
   "id": "de730984",
   "metadata": {},
   "outputs": [
    {
     "data": {
      "text/plain": [
       "24"
      ]
     },
     "execution_count": 43,
     "metadata": {},
     "output_type": "execute_result"
    }
   ],
   "source": [
    "#It returns the least element from set\n",
    "s1={45,69,96,63,36,24}\n",
    "min(s1)"
   ]
  },
  {
   "cell_type": "code",
   "execution_count": null,
   "id": "014c78dc",
   "metadata": {},
   "outputs": [],
   "source": []
  }
 ],
 "metadata": {
  "kernelspec": {
   "display_name": "Python 3 (ipykernel)",
   "language": "python",
   "name": "python3"
  },
  "language_info": {
   "codemirror_mode": {
    "name": "ipython",
    "version": 3
   },
   "file_extension": ".py",
   "mimetype": "text/x-python",
   "name": "python",
   "nbconvert_exporter": "python",
   "pygments_lexer": "ipython3",
   "version": "3.9.13"
  }
 },
 "nbformat": 4,
 "nbformat_minor": 5
}
