{
 "cells": [
  {
   "cell_type": "code",
   "execution_count": null,
   "id": "0dad4632",
   "metadata": {},
   "outputs": [],
   "source": [
    "#1.Given a list, write a Python function \n",
    "#to swap first and last element of the list.\n",
    "#2.write funtion count lenght of string\n",
    "#3.Write a Python program to get the sum of a only non-negative integer.\n",
    "#ex, [1,4,-5,-20,10] ans is 15\n",
    "#4.write functioon of factorial , ex. fact(3) ans 6 (3*2*1)"
   ]
  },
  {
   "cell_type": "code",
   "execution_count": 4,
   "id": "8dc66d01",
   "metadata": {},
   "outputs": [
    {
     "data": {
      "text/plain": [
       "[90, 20, 15, 65, 35, 56, 80, 10]"
      ]
     },
     "execution_count": 4,
     "metadata": {},
     "output_type": "execute_result"
    }
   ],
   "source": [
    "#1.Given a list, write a Python function \n",
    "l=[10,20,15,65,35,56,80,90]\n",
    "\n",
    "def swaplst(a):\n",
    "    count=0\n",
    "    for i in a:\n",
    "        count+=1\n",
    "    temp=a[0]\n",
    "    a[0]=a[count-1]\n",
    "    a[count-1]=temp\n",
    "    return a\n",
    "swaplst(l)"
   ]
  },
  {
   "cell_type": "code",
   "execution_count": 5,
   "id": "9612b271",
   "metadata": {},
   "outputs": [
    {
     "data": {
      "text/plain": [
       "[10, 20, 15, 65, 35, 56, 80, 90]"
      ]
     },
     "execution_count": 5,
     "metadata": {},
     "output_type": "execute_result"
    }
   ],
   "source": [
    "swaplst(l)"
   ]
  },
  {
   "cell_type": "code",
   "execution_count": 6,
   "id": "dc527f3e",
   "metadata": {},
   "outputs": [
    {
     "data": {
      "text/plain": [
       "[90, 20, 15, 65, 35, 56, 80, 10]"
      ]
     },
     "execution_count": 6,
     "metadata": {},
     "output_type": "execute_result"
    }
   ],
   "source": [
    "swaplst(l)"
   ]
  },
  {
   "cell_type": "code",
   "execution_count": 9,
   "id": "8823c58a",
   "metadata": {},
   "outputs": [
    {
     "name": "stdout",
     "output_type": "stream",
     "text": [
      "Enter the string: chetan\n"
     ]
    },
    {
     "data": {
      "text/plain": [
       "6"
      ]
     },
     "execution_count": 9,
     "metadata": {},
     "output_type": "execute_result"
    }
   ],
   "source": [
    "#2.write funtion count lenght of string\n",
    "def lenofstr(a):\n",
    "    count=0\n",
    "    for i in a:\n",
    "        count+=1\n",
    "    return count\n",
    "str=input(\"Enter the string: \")\n",
    "lenofstr(str)"
   ]
  },
  {
   "cell_type": "code",
   "execution_count": 30,
   "id": "e8a952cb",
   "metadata": {},
   "outputs": [
    {
     "name": "stdout",
     "output_type": "stream",
     "text": [
      "Enter the string: chetan santosh dongare\n"
     ]
    },
    {
     "data": {
      "text/plain": [
       "22"
      ]
     },
     "execution_count": 30,
     "metadata": {},
     "output_type": "execute_result"
    }
   ],
   "source": [
    "str=input(\"Enter the string: \")\n",
    "lenofstr(str)"
   ]
  },
  {
   "cell_type": "code",
   "execution_count": 26,
   "id": "5aef177e",
   "metadata": {},
   "outputs": [
    {
     "name": "stdout",
     "output_type": "stream",
     "text": [
      "sum of non negatives is 60\n"
     ]
    }
   ],
   "source": [
    "#3.Write a Python program to get the sum of a only non-negative integer.\n",
    "#ex, [1,4,-5,-20,10] ans is 15\n",
    "def addnonnegative(a):\n",
    "    sum=0\n",
    "    for i in range(len(a)):\n",
    "        if(a[i]>0):\n",
    "            sum+=a[i]\n",
    "    return sum\n",
    "l=[10,20,30,-10,-20,-30]\n",
    "add=addnonnegative(l)\n",
    "print(\"sum of non negatives is {}\".format(add))"
   ]
  },
  {
   "cell_type": "code",
   "execution_count": 27,
   "id": "d1c5a933",
   "metadata": {},
   "outputs": [
    {
     "data": {
      "text/plain": [
       "329"
      ]
     },
     "execution_count": 27,
     "metadata": {},
     "output_type": "execute_result"
    }
   ],
   "source": [
    "lst2=[56,-25,85,-90,23,-89,69,96,-36]\n",
    "addnonnegative(lst2)"
   ]
  },
  {
   "cell_type": "code",
   "execution_count": 28,
   "id": "eb35e18d",
   "metadata": {},
   "outputs": [
    {
     "data": {
      "text/plain": [
       "329"
      ]
     },
     "execution_count": 28,
     "metadata": {},
     "output_type": "execute_result"
    }
   ],
   "source": [
    "56+85+23+69+96"
   ]
  },
  {
   "cell_type": "code",
   "execution_count": 29,
   "id": "f438bec4",
   "metadata": {},
   "outputs": [
    {
     "data": {
      "text/plain": [
       "720"
      ]
     },
     "execution_count": 29,
     "metadata": {},
     "output_type": "execute_result"
    }
   ],
   "source": [
    "#4.write functioon of factorial , ex. fact(3) ans 6 (3*2*1)\n",
    "def fact(n):\n",
    "    f=1\n",
    "    for i in range(n,0,-1):\n",
    "        f=f*i\n",
    "    return f\n",
    "fact(6)"
   ]
  },
  {
   "cell_type": "code",
   "execution_count": 31,
   "id": "e87d1e85",
   "metadata": {},
   "outputs": [
    {
     "data": {
      "text/plain": [
       "3628800"
      ]
     },
     "execution_count": 31,
     "metadata": {},
     "output_type": "execute_result"
    }
   ],
   "source": [
    "fact(10)"
   ]
  },
  {
   "cell_type": "code",
   "execution_count": null,
   "id": "68f16c33",
   "metadata": {},
   "outputs": [],
   "source": []
  }
 ],
 "metadata": {
  "kernelspec": {
   "display_name": "Python 3 (ipykernel)",
   "language": "python",
   "name": "python3"
  },
  "language_info": {
   "codemirror_mode": {
    "name": "ipython",
    "version": 3
   },
   "file_extension": ".py",
   "mimetype": "text/x-python",
   "name": "python",
   "nbconvert_exporter": "python",
   "pygments_lexer": "ipython3",
   "version": "3.9.13"
  }
 },
 "nbformat": 4,
 "nbformat_minor": 5
}
