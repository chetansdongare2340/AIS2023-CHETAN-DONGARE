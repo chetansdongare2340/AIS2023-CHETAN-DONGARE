{
 "cells": [
  {
   "cell_type": "markdown",
   "id": "e05347c1",
   "metadata": {},
   "source": [
    "# create a list of 1 to 20 number using for loop  ex. [1,2,3,...,20]"
   ]
  },
  {
   "cell_type": "code",
   "execution_count": 1,
   "id": "e615e83a",
   "metadata": {},
   "outputs": [
    {
     "name": "stdout",
     "output_type": "stream",
     "text": [
      "[1, 2, 3, 4, 5, 6, 7, 8, 9, 10, 11, 12, 13, 14, 15, 16, 17, 18, 19, 20]\n"
     ]
    }
   ],
   "source": [
    "lst=[]\n",
    "for i in range(1,21):\n",
    "    lst.append(i)\n",
    "    \n",
    "print(lst)"
   ]
  },
  {
   "cell_type": "markdown",
   "id": "dd146972",
   "metadata": {},
   "source": [
    "# creat list of 20 to 0 numbers using while loop.\n",
    "E.x [20,19,…..1,0]"
   ]
  },
  {
   "cell_type": "code",
   "execution_count": 3,
   "id": "9819e8cc",
   "metadata": {},
   "outputs": [
    {
     "name": "stdout",
     "output_type": "stream",
     "text": [
      "[20, 19, 18, 17, 16, 15, 14, 13, 12, 11, 10, 9, 8, 7, 6, 5, 4, 3, 2, 1, 0]\n"
     ]
    }
   ],
   "source": [
    "lst1=[]\n",
    "i=20\n",
    "while i>=0:\n",
    "    lst1.append(i)\n",
    "    i-=1\n",
    "print(lst1)"
   ]
  },
  {
   "cell_type": "markdown",
   "id": "f3d687b3",
   "metadata": {},
   "source": [
    "# Write  conditional loop for checking grades O,A,b,c and fail \n",
    "(Define own conditions)"
   ]
  },
  {
   "cell_type": "code",
   "execution_count": 4,
   "id": "834d0f1e",
   "metadata": {},
   "outputs": [
    {
     "name": "stdout",
     "output_type": "stream",
     "text": [
      "Enter student's percentage95\n",
      "Student got O grade\n"
     ]
    }
   ],
   "source": [
    "per= float(input(\"Enter student's percentage\"))\n",
    "if(per>35):\n",
    "    if(per>50):\n",
    "        if(per>75):\n",
    "            if(per>90):\n",
    "                print(\"Student got O grade\")\n",
    "                \n",
    "            else:\n",
    "                print(\"Student got A grade\")\n",
    "                \n",
    "        else:\n",
    "            print(\"Student got B grade\")\n",
    "            \n",
    "    else:\n",
    "        print(\"Student got C grade\")\n",
    "        \n",
    "else:\n",
    "    print(\"Student is failed\",end=\"!!!\")"
   ]
  },
  {
   "cell_type": "markdown",
   "id": "df68320b",
   "metadata": {},
   "source": [
    "# Write  conditional loop for Prime number"
   ]
  },
  {
   "cell_type": "code",
   "execution_count": 5,
   "id": "4d32b22d",
   "metadata": {},
   "outputs": [
    {
     "name": "stdout",
     "output_type": "stream",
     "text": [
      "Enter a number: 997\n",
      "997 is a prime number\n"
     ]
    }
   ],
   "source": [
    "num = int(input(\"Enter a number: \"))\n",
    "\n",
    "if num == 1:\n",
    "    print(num, \"is not a prime number\")\n",
    "elif num == 2:\n",
    "    print(num, \"is a prime number\")\n",
    "elif num>2:\n",
    "    for i in range(2,num):\n",
    "        if (num%i)==0:\n",
    "            print(num,\"is not a prime number\")\n",
    "            break\n",
    "        else:\n",
    "            print(num,\"is a prime number\")\n",
    "            break\n"
   ]
  },
  {
   "cell_type": "markdown",
   "id": "6e3e92be",
   "metadata": {},
   "source": [
    "# Write  “for loop” for printing odd value using continue statement \n",
    "(Don’t use range step parameter)"
   ]
  },
  {
   "cell_type": "code",
   "execution_count": 6,
   "id": "1edfc91a",
   "metadata": {},
   "outputs": [
    {
     "name": "stdout",
     "output_type": "stream",
     "text": [
      "1\n",
      "3\n",
      "5\n",
      "7\n",
      "9\n",
      "11\n",
      "13\n",
      "15\n",
      "17\n",
      "19\n",
      "21\n",
      "23\n",
      "25\n",
      "27\n",
      "29\n",
      "31\n",
      "33\n",
      "35\n",
      "37\n",
      "39\n",
      "41\n",
      "43\n",
      "45\n",
      "47\n",
      "49\n",
      "51\n",
      "53\n",
      "55\n",
      "57\n",
      "59\n",
      "61\n",
      "63\n",
      "65\n",
      "67\n",
      "69\n",
      "71\n",
      "73\n",
      "75\n",
      "77\n",
      "79\n",
      "81\n",
      "83\n",
      "85\n",
      "87\n",
      "89\n",
      "91\n",
      "93\n",
      "95\n",
      "97\n",
      "99\n"
     ]
    }
   ],
   "source": [
    "for i in range(1,100):\n",
    "    if(i%2==0):\n",
    "        continue\n",
    "    else:\n",
    "        print(i)"
   ]
  },
  {
   "cell_type": "markdown",
   "id": "9366a805",
   "metadata": {},
   "source": [
    "# Write code need given ans\n",
    "A1\n",
    "B2\n",
    "C3\n",
    ".\n",
    ".\n",
    "Z26"
   ]
  },
  {
   "cell_type": "code",
   "execution_count": 9,
   "id": "2174b681",
   "metadata": {},
   "outputs": [
    {
     "name": "stdout",
     "output_type": "stream",
     "text": [
      "A 1\n",
      "B 2\n",
      "C 3\n",
      "D 4\n",
      "E 5\n",
      "F 6\n",
      "G 7\n",
      "H 8\n",
      "I 9\n",
      "J 10\n",
      "K 11\n",
      "L 12\n",
      "M 13\n",
      "N 14\n",
      "O 15\n",
      "P 16\n",
      "Q 17\n",
      "R 18\n",
      "S 19\n",
      "T 20\n",
      "U 21\n",
      "V 22\n",
      "W 23\n",
      "X 24\n",
      "Y 25\n",
      "Z 26\n"
     ]
    }
   ],
   "source": [
    "alpha=('A','B','C','D','E','F','G','H','I','J','K','L','M','N','O','P','Q','R','S','T','U','V','W','X','Y','Z')\n",
    "c=1\n",
    "i=0\n",
    "while i<len(alpha):\n",
    "    print(alpha[i],c)\n",
    "    c+=1\n",
    "    i+=1"
   ]
  },
  {
   "cell_type": "code",
   "execution_count": 14,
   "id": "3503ffe0",
   "metadata": {},
   "outputs": [
    {
     "name": "stdout",
     "output_type": "stream",
     "text": [
      "A 1\n",
      "B 2\n",
      "C 3\n",
      "D 4\n",
      "E 5\n",
      "F 6\n",
      "G 7\n",
      "H 8\n",
      "I 9\n",
      "J 10\n",
      "K 11\n",
      "L 12\n",
      "M 13\n",
      "N 14\n",
      "O 15\n",
      "P 16\n",
      "Q 17\n",
      "R 18\n",
      "S 19\n",
      "T 20\n",
      "U 21\n",
      "V 22\n",
      "W 23\n",
      "X 24\n",
      "Y 25\n",
      "Z 26\n"
     ]
    }
   ],
   "source": [
    "#using for loop\n",
    "alpha=('A','B','C','D','E','F','G','H','I','J','K','L','M','N','O','P','Q','R','S','T','U','V','W','X','Y','Z')\n",
    "c=1\n",
    "for i in range(len(alpha)):\n",
    "    print(alpha[i],c)\n",
    "    c+=1"
   ]
  },
  {
   "cell_type": "markdown",
   "id": "229b4c7a",
   "metadata": {},
   "source": [
    "# Write code  to reverse given tuple (don’t use reverse method )\n",
    "T=(1,3,2,4,6,5)"
   ]
  },
  {
   "cell_type": "code",
   "execution_count": 11,
   "id": "ba1bfc65",
   "metadata": {},
   "outputs": [
    {
     "name": "stdout",
     "output_type": "stream",
     "text": [
      "(5, 6, 4, 2, 3, 1)\n"
     ]
    }
   ],
   "source": [
    "T=(1,3,2,4,6,5)\n",
    "T=T[::-1]\n",
    "print(T)"
   ]
  },
  {
   "cell_type": "markdown",
   "id": "8b5ea1cd",
   "metadata": {},
   "source": [
    "# Write code print “statistics” like that \n",
    "\n",
    "Python\n",
    "s\n",
    "t\n",
    "a\n",
    "t\n",
    "I\n",
    "Python\n",
    "s\n",
    "T\n",
    "I\n",
    "c\n",
    "Python\n",
    "s\n"
   ]
  },
  {
   "cell_type": "code",
   "execution_count": 15,
   "id": "a0d85e75",
   "metadata": {},
   "outputs": [
    {
     "name": "stdout",
     "output_type": "stream",
     "text": [
      "Python\n",
      "s\n",
      "t\n",
      "a\n",
      "t\n",
      "i\n",
      "Python\n",
      "s\n",
      "t\n",
      "i\n",
      "c\n",
      "Python\n",
      "s\n"
     ]
    }
   ],
   "source": [
    "str='statistics'\n",
    "for i in range(len(str)):\n",
    "    if str[i]=='s':\n",
    "        pass\n",
    "        print(\"Python\")\n",
    "    print(str[i])"
   ]
  },
  {
   "cell_type": "markdown",
   "id": "276cee37",
   "metadata": {},
   "source": [
    "# Print every word and stop iteration after getting g ltr\n",
    "alpha= [a,b,c,d,e,f,g,h,i]"
   ]
  },
  {
   "cell_type": "code",
   "execution_count": 13,
   "id": "385ab91d",
   "metadata": {},
   "outputs": [
    {
     "name": "stdout",
     "output_type": "stream",
     "text": [
      "a\n",
      "b\n",
      "c\n",
      "d\n",
      "e\n",
      "f\n"
     ]
    }
   ],
   "source": [
    "alpha= ['a','b','c','d','e','f','g','h','i']\n",
    "for i in range(len(alpha)):\n",
    "    if(alpha[i]=='g'):\n",
    "        break\n",
    "    print(alpha[i])"
   ]
  },
  {
   "cell_type": "code",
   "execution_count": null,
   "id": "6646efee",
   "metadata": {},
   "outputs": [],
   "source": []
  }
 ],
 "metadata": {
  "kernelspec": {
   "display_name": "Python 3 (ipykernel)",
   "language": "python",
   "name": "python3"
  },
  "language_info": {
   "codemirror_mode": {
    "name": "ipython",
    "version": 3
   },
   "file_extension": ".py",
   "mimetype": "text/x-python",
   "name": "python",
   "nbconvert_exporter": "python",
   "pygments_lexer": "ipython3",
   "version": "3.9.13"
  }
 },
 "nbformat": 4,
 "nbformat_minor": 5
}
